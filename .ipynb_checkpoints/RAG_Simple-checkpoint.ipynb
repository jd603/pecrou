{
 "cells": [
  {
   "cell_type": "markdown",
   "id": "6913b051-2ee0-4f10-8083-5320b7ceb5c0",
   "metadata": {},
   "source": [
    "## Template application of LLM with Huggingface"
   ]
  },
  {
   "cell_type": "code",
   "execution_count": null,
   "id": "b0f60ced-ad2c-496d-a2fc-09045642565a",
   "metadata": {},
   "outputs": [],
   "source": [
    "import os\n",
    "import requests\n",
    "import json\n",
    "import requests"
   ]
  },
  {
   "cell_type": "markdown",
   "id": "8be5353e-c621-4900-aa2b-dc84d511806d",
   "metadata": {},
   "source": [
    "## Downloading some files for the collection"
   ]
  },
  {
   "cell_type": "code",
   "execution_count": null,
   "id": "49ef2baa-4f39-4798-bdbb-78af3906fd51",
   "metadata": {},
   "outputs": [],
   "source": [
    "import chromadb\n",
    "import urllib.request\n",
    "\n",
    "files_path = \"./files/\"\n",
    "\n",
    "filenames = []\n",
    "\n",
    "links = [\n",
    "    \"https://www.worldsquash.org/wp-content/uploads/2021/12/201127_Rules-of-Singles-Squash-2020-V2.pdf\",\n",
    "#    \"https://www.tutorialspoint.com/squash/squash_tutorial.pdf\",\n",
    "    \"http://aero-comlab.stanford.edu/jameson/squash_rackets.pdf\",\n",
    "]"
   ]
  },
  {
   "cell_type": "code",
   "execution_count": null,
   "id": "d9178047-73e0-4ec8-92f3-420c1fb461e4",
   "metadata": {},
   "outputs": [],
   "source": [
    "#get or create folder \n",
    "if os.path.exists(files_path):\n",
    "    print(\"existing folder\")\n",
    "else:\n",
    "    os.mkdir(files_path)\n",
    "    print(\"folder created\")"
   ]
  },
  {
   "cell_type": "code",
   "execution_count": null,
   "id": "12e48ed9-767a-4096-aedc-717cd5f7364d",
   "metadata": {},
   "outputs": [],
   "source": [
    "for link in links:\n",
    "    filename = link.split('/')[-1]\n",
    "    filenames.append(filename)\n",
    "    print(filename)\n",
    "    urllib.request.urlretrieve(link, filename = files_path+filename)"
   ]
  },
  {
   "cell_type": "markdown",
   "id": "e48d4dd5-8896-4715-8ae9-629d8980cd03",
   "metadata": {},
   "source": [
    "## Custom Query Function for RAG extraction"
   ]
  },
  {
   "cell_type": "code",
   "execution_count": null,
   "id": "d3a9098b-6370-4287-9a13-4a2a94d801e8",
   "metadata": {},
   "outputs": [],
   "source": [
    "from llama_index.core.query_engine import CustomQueryEngine\n",
    "from llama_index.core.retrievers import BaseRetriever\n",
    "from llama_index.core import get_response_synthesizer\n",
    "from llama_index.core.response_synthesizers import BaseSynthesizer\n",
    "from llama_index.core import VectorStoreIndex, SimpleDirectoryReader\n",
    "from llama_index.core import PromptTemplate\n",
    "from llama_index.embeddings.huggingface import HuggingFaceEmbedding\n",
    "from llama_index.llms.langchain import LangChainLLM"
   ]
  },
  {
   "cell_type": "code",
   "execution_count": null,
   "id": "64799e0b-e2e0-49ec-aee4-06fbe2f03c92",
   "metadata": {},
   "outputs": [],
   "source": [
    "# load documents\n",
    "documents = SimpleDirectoryReader(files_path).load_data()"
   ]
  },
  {
   "cell_type": "code",
   "execution_count": null,
   "id": "ef432109-c348-4dfb-8a7a-f31c664e55d8",
   "metadata": {},
   "outputs": [],
   "source": [
    "# loads BAAI/bge-small-en-v1.5\n",
    "embed_model = HuggingFaceEmbedding(model_name=\"BAAI/bge-small-en-v1.5\")"
   ]
  },
  {
   "cell_type": "code",
   "execution_count": null,
   "id": "a2569558-5126-4a68-9816-6a3f105f62b9",
   "metadata": {},
   "outputs": [],
   "source": [
    "# Generate index from documents and define retriever for RAG function\n",
    "index = VectorStoreIndex.from_documents(documents, embed_model = embed_model)\n",
    "retriever = index.as_retriever()"
   ]
  },
  {
   "cell_type": "code",
   "execution_count": null,
   "id": "77844f18-ae68-4368-8f8b-e9a3302be642",
   "metadata": {},
   "outputs": [],
   "source": [
    "# System Prompt for NousResearch - Mixtral 8x7B\n",
    "qa_prompt = PromptTemplate(\n",
    "    \"<|im_start|>system \\n\"\n",
    "    \"Given the context information and not prior knowledge, \"\n",
    "    \"answer the query.\\n\"\n",
    "    \"Context information is below.\\n\"\n",
    "    \"---------------------\\n\"\n",
    "    \"{context_str}\\n\"\n",
    "    \"---------------------\\n\"\n",
    "    \"<|im_start|>user \\n \"\n",
    "    \"Query: {query_str}\\n\"\n",
    "    \"<|im_end|> \\n\"\n",
    "    \"<|im_start|>assistant \"\n",
    ")\n",
    "\n",
    "\n",
    "class RAGStringQueryEngine(CustomQueryEngine):\n",
    "    \"\"\"RAG String Query Engine.\"\"\"\n",
    "\n",
    "    retriever: BaseRetriever\n",
    "    response_synthesizer: BaseSynthesizer\n",
    "    llm: LangChainLLM\n",
    "    qa_prompt: PromptTemplate\n",
    "\n",
    "    def custom_query(self, query_str: str):\n",
    "        nodes = self.retriever.retrieve(query_str)\n",
    "\n",
    "        context_str = \"\\n\\n\".join([n.node.get_content() for n in nodes])\n",
    "        response = self.llm.complete(\n",
    "            qa_prompt.format(context_str=context_str, query_str=query_str)\n",
    "        )\n",
    "\n",
    "        return str(response)"
   ]
  },
  {
   "cell_type": "markdown",
   "id": "24dd452c-8ba3-42bc-8e8e-b5ece8b96830",
   "metadata": {},
   "source": [
    "## Testing it out"
   ]
  },
  {
   "cell_type": "markdown",
   "id": "d16302fd-6f2b-4669-aa00-60dd0c6580a2",
   "metadata": {},
   "source": [
    "### Getting the LLM initiated"
   ]
  },
  {
   "cell_type": "code",
   "execution_count": null,
   "id": "e3a8d7dd-69e4-48c3-a7e0-8fb6818c756b",
   "metadata": {},
   "outputs": [],
   "source": [
    "# get a token: https://huggingface.co/docs/api-inference/quicktour#get-your-api-token\n",
    "\n",
    "from getpass import getpass\n",
    "\n",
    "HUGGINGFACEHUB_API_TOKEN = getpass()\n",
    "os.environ[\"HUGGINGFACEHUB_API_TOKEN\"]=  HUGGINGFACEHUB_API_TOKEN"
   ]
  },
  {
   "cell_type": "code",
   "execution_count": null,
   "id": "7c80236f-4dd0-41cf-8725-fcab3b621abe",
   "metadata": {},
   "outputs": [],
   "source": [
    "from langchain_community.llms import HuggingFaceHub\n",
    "\n",
    "repo_id = \"NousResearch/Nous-Hermes-2-Mixtral-8x7B-DPO\"\n",
    "\n",
    "llm = LangChainLLM(llm=HuggingFaceHub(repo_id=repo_id, model_kwargs={\"temperature\": 0.5, \"max_new_tokens\": 1024}))"
   ]
  },
  {
   "cell_type": "code",
   "execution_count": null,
   "id": "d3270f08-df29-4b6e-a75a-56985681dcb3",
   "metadata": {},
   "outputs": [],
   "source": [
    "synthesizer = get_response_synthesizer(response_mode=\"compact\", llm = llm)\n",
    "\n",
    "query_engine = RAGStringQueryEngine(\n",
    "    retriever=retriever,\n",
    "    response_synthesizer=synthesizer,\n",
    "    llm=llm,\n",
    "    qa_prompt=qa_prompt,\n",
    ")"
   ]
  },
  {
   "cell_type": "code",
   "execution_count": null,
   "id": "e8b2ae23-1e68-4188-8e36-a5ddf2b129f4",
   "metadata": {},
   "outputs": [],
   "source": [
    "response = query_engine.query(\"how large is a single squash court supposed to be?\")\n",
    "#print(str(response))\n",
    "print(response.response.split('<|im_start|>assistant ')[1])"
   ]
  },
  {
   "cell_type": "code",
   "execution_count": null,
   "id": "a712ce5f-112c-48b8-8ba9-3cad6cf11105",
   "metadata": {},
   "outputs": [],
   "source": [
    "print(str(response))"
   ]
  },
  {
   "cell_type": "code",
   "execution_count": null,
   "id": "3fd6c03b-f2c8-4ef2-a65a-9f20bad38f16",
   "metadata": {},
   "outputs": [],
   "source": []
  }
 ],
 "metadata": {
  "kernelspec": {
   "display_name": "Python 3 (ipykernel)",
   "language": "python",
   "name": "python3"
  },
  "language_info": {
   "codemirror_mode": {
    "name": "ipython",
    "version": 3
   },
   "file_extension": ".py",
   "mimetype": "text/x-python",
   "name": "python",
   "nbconvert_exporter": "python",
   "pygments_lexer": "ipython3",
   "version": "3.11.8"
  }
 },
 "nbformat": 4,
 "nbformat_minor": 5
}
