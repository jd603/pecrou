{
 "cells": [
  {
   "cell_type": "markdown",
   "id": "62e93dcc-40ff-40d7-aed7-515424efbe57",
   "metadata": {},
   "source": [
    "# Test of Autogen Compatibility with Local Inference\n",
    "Autogen has many tools allowing agent creation"
   ]
  },
  {
   "cell_type": "code",
   "execution_count": 30,
   "id": "e2900599-6290-49b4-a7ae-4ab8a8cdb14b",
   "metadata": {},
   "outputs": [],
   "source": [
    "#%pip uninstall autogen\n",
    "#!py -m pip install -Uqq pyautogen"
   ]
  },
  {
   "cell_type": "code",
   "execution_count": 31,
   "id": "ece316ee-421f-438a-9064-d8e5039f3598",
   "metadata": {},
   "outputs": [],
   "source": [
    "import autogen\n",
    "\n",
    "from autogen import AssistantAgent, UserProxyAgent"
   ]
  },
  {
   "cell_type": "code",
   "execution_count": 32,
   "id": "e848151a-ac57-4ba3-a7e1-98c4295de9ac",
   "metadata": {},
   "outputs": [
    {
     "name": "stdout",
     "output_type": "stream",
     "text": [
      "../LLM/TheBloke/Llama-2-7B-Chat-GGUF/llama-2-7b-chat.Q6_K.gguf exists.\n"
     ]
    }
   ],
   "source": [
    "import os\n",
    "\n",
    "model_path = \"../LLM/TheBloke/Llama-2-7B-Chat-GGUF/llama-2-7b-chat.Q6_K.gguf\" # path to your model\n",
    "\n",
    "if os.path.exists(model_path):\n",
    "    print(f\"{model_path} exists.\")\n",
    "else:\n",
    "    print(f\"{model_path} does not exist.\")"
   ]
  },
  {
   "cell_type": "code",
   "execution_count": 13,
   "id": "4dafad86-a5b4-4df8-8c77-3414da11383e",
   "metadata": {},
   "outputs": [],
   "source": [
    "#Initiate a Llama_cpp server with the model given in model_path defined above\n",
    "#Server is by default at localhost:8000\n",
    "#can be modified by using --host 0.0.0.0 and --port to modify ip address and port\n",
    "!start python -m llama_cpp.server --model {model_path} "
   ]
  },
  {
   "cell_type": "code",
   "execution_count": 43,
   "id": "69a38443-1a34-4d84-b3ba-7d2df8b4ec21",
   "metadata": {},
   "outputs": [],
   "source": [
    "from llama_index.core import PromptTemplate\n",
    "\n",
    "#Define the prompt_template for Llama2 Chat model\n",
    "template=(\"\"\"\n",
    "<s>[INST] <<SYS>>\n",
    "{system_prompt}\n",
    "<</SYS>>\n",
    "\n",
    "{user_message} [/INST]\n",
    "\"\"\")\n",
    "\n",
    "qa_template = PromptTemplate(template)\n",
    "\n",
    "# Example of how to use the qa_template\n",
    "#prompt = qa_template.format(system_prompt=\"be nice\", user_message=\"tell me what is Autogen?\")\n",
    "\n",
    "#print(prompt)"
   ]
  },
  {
   "cell_type": "code",
   "execution_count": 34,
   "id": "e67b6216-0fb1-48bb-9579-59585bc8435f",
   "metadata": {},
   "outputs": [],
   "source": [
    "config_list = [\n",
    "    {\n",
    "        \"model\":\"local-model\",\n",
    "        \"api_type\": \"open_ai\",\n",
    "        \"base_url\": \"http://localhost:8000/v1\",\n",
    "        \"api_key\": \"NULL\"\n",
    "    }\n",
    "]\n",
    "\n",
    "llm_config={\n",
    "#    \"request_timeout\": 600,\n",
    "    \"timeout\":600,\n",
    "    \"seed\": 42,\n",
    "    \"config_list\": config_list,\n",
    "    \"temperature\": 0.1,\n",
    "    \"max_tokens\":4096,\n",
    "#    \"stream\": True,\n",
    "}"
   ]
  },
  {
   "cell_type": "code",
   "execution_count": 35,
   "id": "61ae5111-8d8a-4557-8dbb-5a6854729a40",
   "metadata": {},
   "outputs": [],
   "source": [
    "assistant = AssistantAgent(\n",
    "    name=\"assistant\",\n",
    "    system_message=\"\"\"You are a helpful assistant. Provide concise answer.\n",
    "    When you have answered the question, append TERMINATE to your response and end the chat\"\"\",\n",
    "    llm_config=llm_config,\n",
    "    is_termination_msg=lambda x: x.get(\"content\",\"\").rstrip().endswith(\"TERMINATE\"),\n",
    "\n",
    ")"
   ]
  },
  {
   "cell_type": "code",
   "execution_count": 39,
   "id": "e65c2f70-adf3-4a44-bce7-47feef4af9b5",
   "metadata": {},
   "outputs": [],
   "source": [
    "user_proxy = UserProxyAgent(\n",
    "    name=\"user_proxy\",\n",
    "    human_input_mode=\"NEVER\",\n",
    "    max_consecutive_auto_reply=3,\n",
    "    system_message=\"\"\"Evaluate response and reply TERMINATE if the task has been solved. \n",
    "    Otherwise, reply CONTINUE, or the reason why the task is not solved yet.\"\"\",\n",
    "    is_termination_msg=lambda x: x.get(\"content\",\"\").rstrip().endswith(\"TERMINATE\"),\n",
    "    code_execution_config = {\"use_docker\": False},\n",
    "    llm_config = llm_config,\n",
    "\n",
    ")"
   ]
  },
  {
   "cell_type": "code",
   "execution_count": 40,
   "id": "a850f462-7da0-4c2d-8798-272df5ae1416",
   "metadata": {
    "editable": true,
    "slideshow": {
     "slide_type": ""
    },
    "tags": []
   },
   "outputs": [],
   "source": [
    "assistant.reset()"
   ]
  },
  {
   "cell_type": "code",
   "execution_count": 42,
   "id": "42d4fee3-8445-4fcf-97b5-646a5355cff7",
   "metadata": {
    "editable": true,
    "slideshow": {
     "slide_type": ""
    },
    "tags": []
   },
   "outputs": [
    {
     "name": "stdout",
     "output_type": "stream",
     "text": [
      "\u001b[33muser_proxy\u001b[0m (to assistant):\n",
      "\n",
      "\n",
      "<s>[INST] <<SYS>>\n",
      "Evaluate response and reply TERMINATE if the task has been solved. \n",
      "    Otherwise, reply CONTINUE, or the reason why the task is not solved yet.\n",
      "<</SYS>>\n",
      "\n",
      "What are important security aspects when uploading a file in Flask HTML ? [/INST]\n",
      "\n",
      "\n",
      "--------------------------------------------------------------------------------\n",
      "\u001b[33massistant\u001b[0m (to user_proxy):\n",
      "\n",
      "  CONTINUE:\n",
      "When uploading a file in Flask HTML, there are several important security aspects to consider:\n",
      "1. Sanitization: Sanitize user-generated content, including files, to prevent cross-site scripting (XSS) attacks.\n",
      "2. Validation: Validate file types and sizes to prevent malicious files from being uploaded.\n",
      "3. Access Control: Implement proper access control mechanisms to restrict access to sensitive files and prevent unauthorized access.\n",
      "4. Storage: Store files securely, using a secure storage mechanism such as AWS S3 or Google Cloud Storage.\n",
      "5. Encryption: Encrypt files during storage and transmission to protect sensitive data.\n",
      "6. Authentication: Implement proper authentication mechanisms to ensure that only authorized users can access files.\n",
      "7. Authorization: Implement proper authorization mechanisms to restrict access to files based on user roles or permissions.\n",
      "8. Logging: Log all file uploads and access events to detect and respond to security incidents.\n",
      "9. Backup: Regularly backup files to prevent data loss in case of security incidents or system failures.\n",
      "10. Compliance: Ensure that file upload and storage practices comply with relevant security standards and regulations, such as HIPAA or GDPR.\n",
      "By considering these security aspects, you can ensure that file uploads in Flask HTML are secure and protected from potential security threats.\n",
      "\n",
      "--------------------------------------------------------------------------------\n",
      "\u001b[33muser_proxy\u001b[0m (to assistant):\n",
      "\n",
      "  Great! Here's a summary of the important security aspects to consider when uploading a file in Flask HTML:\n",
      "1. Sanitization: Sanitize user-generated content, including files, to prevent cross-site scripting (XSS) attacks.\n",
      "2. Validation: Validate file types and sizes to prevent malicious files from being uploaded.\n",
      "3. Access Control: Implement proper access control mechanisms to restrict access to sensitive files and prevent unauthorized access.\n",
      "4. Storage: Store files securely, using a secure storage mechanism such as AWS S3 or Google Cloud Storage.\n",
      "5. Encryption: Encrypt files during storage and transmission to protect sensitive data.\n",
      "6. Authentication: Implement proper authentication mechanisms to ensure that only authorized users can access files.\n",
      "7. Authorization: Implement proper authorization mechanisms to restrict access to files based on user roles or permissions.\n",
      "8. Logging: Log all file uploads and access events to detect and respond to security incidents.\n",
      "9. Backup: Regularly backup files to prevent data loss in case of security incidents or system failures.\n",
      "10. Compliance: Ensure that file upload and storage practices comply with relevant security standards and regulations, such as HIPAA or GDPR.\n",
      "By following these security aspects, you can ensure that file uploads in Flask HTML are secure and protected from potential security threats.\n",
      "\n",
      "--------------------------------------------------------------------------------\n",
      "\u001b[33massistant\u001b[0m (to user_proxy):\n",
      "\n",
      "  TERMINATE\n",
      "\n",
      "--------------------------------------------------------------------------------\n"
     ]
    },
    {
     "data": {
      "text/plain": [
       "ChatResult(chat_history=[{'content': '\\n<s>[INST] <<SYS>>\\nEvaluate response and reply TERMINATE if the task has been solved. \\n    Otherwise, reply CONTINUE, or the reason why the task is not solved yet.\\n<</SYS>>\\n\\nWhat are important security aspects when uploading a file in Flask HTML ? [/INST]\\n', 'role': 'assistant'}, {'content': '  CONTINUE:\\nWhen uploading a file in Flask HTML, there are several important security aspects to consider:\\n1. Sanitization: Sanitize user-generated content, including files, to prevent cross-site scripting (XSS) attacks.\\n2. Validation: Validate file types and sizes to prevent malicious files from being uploaded.\\n3. Access Control: Implement proper access control mechanisms to restrict access to sensitive files and prevent unauthorized access.\\n4. Storage: Store files securely, using a secure storage mechanism such as AWS S3 or Google Cloud Storage.\\n5. Encryption: Encrypt files during storage and transmission to protect sensitive data.\\n6. Authentication: Implement proper authentication mechanisms to ensure that only authorized users can access files.\\n7. Authorization: Implement proper authorization mechanisms to restrict access to files based on user roles or permissions.\\n8. Logging: Log all file uploads and access events to detect and respond to security incidents.\\n9. Backup: Regularly backup files to prevent data loss in case of security incidents or system failures.\\n10. Compliance: Ensure that file upload and storage practices comply with relevant security standards and regulations, such as HIPAA or GDPR.\\nBy considering these security aspects, you can ensure that file uploads in Flask HTML are secure and protected from potential security threats.', 'role': 'user'}, {'content': \"  Great! Here's a summary of the important security aspects to consider when uploading a file in Flask HTML:\\n1. Sanitization: Sanitize user-generated content, including files, to prevent cross-site scripting (XSS) attacks.\\n2. Validation: Validate file types and sizes to prevent malicious files from being uploaded.\\n3. Access Control: Implement proper access control mechanisms to restrict access to sensitive files and prevent unauthorized access.\\n4. Storage: Store files securely, using a secure storage mechanism such as AWS S3 or Google Cloud Storage.\\n5. Encryption: Encrypt files during storage and transmission to protect sensitive data.\\n6. Authentication: Implement proper authentication mechanisms to ensure that only authorized users can access files.\\n7. Authorization: Implement proper authorization mechanisms to restrict access to files based on user roles or permissions.\\n8. Logging: Log all file uploads and access events to detect and respond to security incidents.\\n9. Backup: Regularly backup files to prevent data loss in case of security incidents or system failures.\\n10. Compliance: Ensure that file upload and storage practices comply with relevant security standards and regulations, such as HIPAA or GDPR.\\nBy following these security aspects, you can ensure that file uploads in Flask HTML are secure and protected from potential security threats.\", 'role': 'assistant'}, {'content': '  TERMINATE', 'role': 'user'}], summary='  ', cost=({'total_cost': 0, 'local-model': {'cost': 0, 'prompt_tokens': 1466, 'completion_tokens': 813, 'total_tokens': 2279}}, {'total_cost': 0, 'local-model': {'cost': 0, 'prompt_tokens': 1334, 'completion_tokens': 616, 'total_tokens': 1950}}), human_input=[])"
      ]
     },
     "execution_count": 42,
     "metadata": {},
     "output_type": "execute_result"
    }
   ],
   "source": [
    "user_proxy.initiate_chat(\n",
    "    assistant,\n",
    "    message=qa_template.format(system_prompt=\"\"\"Evaluate response and reply TERMINATE if the task has been solved. \n",
    "    Otherwise, reply CONTINUE, or the reason why the task is not solved yet.\"\"\", \n",
    "                               user_message=\"What are important security aspects when uploading a file in Flask HTML ?\"),    \n",
    ")"
   ]
  },
  {
   "cell_type": "code",
   "execution_count": null,
   "id": "ab8af810-da86-46bc-9b37-933030091c93",
   "metadata": {},
   "outputs": [],
   "source": []
  },
  {
   "cell_type": "code",
   "execution_count": null,
   "id": "cfa662f4-15d3-462c-a91b-0708d125b185",
   "metadata": {},
   "outputs": [],
   "source": []
  }
 ],
 "metadata": {
  "kernelspec": {
   "display_name": "Python 3 (ipykernel)",
   "language": "python",
   "name": "python3"
  },
  "language_info": {
   "codemirror_mode": {
    "name": "ipython",
    "version": 3
   },
   "file_extension": ".py",
   "mimetype": "text/x-python",
   "name": "python",
   "nbconvert_exporter": "python",
   "pygments_lexer": "ipython3",
   "version": "3.11.8"
  }
 },
 "nbformat": 4,
 "nbformat_minor": 5
}
