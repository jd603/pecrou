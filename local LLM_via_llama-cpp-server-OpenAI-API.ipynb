{
 "cells": [
  {
   "cell_type": "markdown",
   "id": "761c2309-57b5-45c5-af83-ecfa787d9d31",
   "metadata": {},
   "source": [
    "# LLAMA CPP running as a Server - OpenAI API interface\n",
    "\n",
    "Need to have a server running with Llama Cpp and the model of choice"
   ]
  },
  {
   "cell_type": "code",
   "execution_count": 1,
   "id": "c1e5edd6-d486-4827-a063-34fd11e340db",
   "metadata": {},
   "outputs": [],
   "source": [
    "model_path = \"./LLM/TheBloke/Llama-2-7B-Chat-GGUF/llama-2-7b-chat.Q6_K.gguf\""
   ]
  },
  {
   "cell_type": "code",
   "execution_count": 2,
   "id": "38031c50-3f8b-43f2-b5ce-1924ee204392",
   "metadata": {},
   "outputs": [],
   "source": [
    "#Initiate a Llama_cpp server with the model given in model_path defined above\n",
    "#Server is by default at localhost:8000\n",
    "#can be modified by using --host 0.0.0.0 and --port to modify ip address and port\n",
    "!start python -m llama_cpp.server --model {model_path} "
   ]
  },
  {
   "cell_type": "code",
   "execution_count": 3,
   "id": "8567c20f-b363-4a47-bf21-c36df9bb0abd",
   "metadata": {},
   "outputs": [],
   "source": [
    "# with llama_cpp.server running at localhost:8000\n",
    "from openai import OpenAI\n",
    " \n",
    "\n",
    "client = OpenAI(base_url=\"http://localhost:8000/v1\", api_key=\"not-needed\")\n",
    "\n",
    "\n",
    "completion = client.chat.completions.create(\n",
    "          model=\"local-model\", # this field is currently unused\n",
    "          messages=[\n",
    "            {\"role\": \"system\", \"content\": \"you are an helpful assistant\"},\n",
    "            {\"role\": \"user\", \"content\": \"what is 1+1?\"}\n",
    "                  ],\n",
    "          temperature=0.7,\n",
    "    )"
   ]
  },
  {
   "cell_type": "code",
   "execution_count": 4,
   "id": "18feacc2-37f9-4709-b030-e9d33b6ef90d",
   "metadata": {},
   "outputs": [
    {
     "name": "stdout",
     "output_type": "stream",
     "text": [
      "  Of course, I'd be happy to help! The answer to 1+1 is 2.\n"
     ]
    }
   ],
   "source": [
    "print(completion.choices[0].message.content)"
   ]
  },
  {
   "cell_type": "code",
   "execution_count": null,
   "id": "bc5ed54a-73a5-421f-9cac-6ccc0b2846be",
   "metadata": {},
   "outputs": [],
   "source": []
  }
 ],
 "metadata": {
  "kernelspec": {
   "display_name": "Python 3 (ipykernel)",
   "language": "python",
   "name": "python3"
  },
  "language_info": {
   "codemirror_mode": {
    "name": "ipython",
    "version": 3
   },
   "file_extension": ".py",
   "mimetype": "text/x-python",
   "name": "python",
   "nbconvert_exporter": "python",
   "pygments_lexer": "ipython3",
   "version": "3.11.8"
  }
 },
 "nbformat": 4,
 "nbformat_minor": 5
}
